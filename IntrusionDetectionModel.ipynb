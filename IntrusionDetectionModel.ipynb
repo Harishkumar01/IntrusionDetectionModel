{
  "nbformat": 4,
  "nbformat_minor": 0,
  "metadata": {
    "colab": {
      "name": "IntrusionDetectionModel.ipynb",
      "provenance": [],
      "collapsed_sections": [],
      "authorship_tag": "ABX9TyNd1JbLGyEUKp5HUmIGuoNe",
      "include_colab_link": true
    },
    "kernelspec": {
      "name": "python3",
      "display_name": "Python 3"
    }
  },
  "cells": [
    {
      "cell_type": "markdown",
      "metadata": {
        "id": "view-in-github",
        "colab_type": "text"
      },
      "source": [
        "<a href=\"https://colab.research.google.com/github/Harishkumar01/IntrusionDetectionModel/blob/master/IntrusionDetectionModel.ipynb\" target=\"_parent\"><img src=\"https://colab.research.google.com/assets/colab-badge.svg\" alt=\"Open In Colab\"/></a>"
      ]
    },
    {
      "cell_type": "markdown",
      "metadata": {
        "id": "9VBN7Doomfet",
        "colab_type": "text"
      },
      "source": [
        "# Evaluating a Model for Intrusion Detection"
      ]
    },
    {
      "cell_type": "markdown",
      "metadata": {
        "id": "Xd1Twtb2lbCF",
        "colab_type": "text"
      },
      "source": [
        "Objective is to select best model to predict whether the given data packet is malicious or normal"
      ]
    },
    {
      "cell_type": "markdown",
      "metadata": {
        "id": "o-61ZK3_l51J",
        "colab_type": "text"
      },
      "source": [
        "This done by two steps which is proper preprocessing of data followed by training it to different models and validating the resuts."
      ]
    },
    {
      "cell_type": "code",
      "metadata": {
        "id": "v7ykNvFCQdq0",
        "colab_type": "code",
        "colab": {}
      },
      "source": [
        "#importing required modules\n",
        "import pandas as pd\n",
        "import seaborn as sns\n",
        "import sklearn\n",
        "from mlxtend.feature_selection import SequentialFeatureSelector as SFS\n",
        "from sklearn.ensemble import RandomForestRegressor, RandomForestClassifier\n"
      ],
      "execution_count": 48,
      "outputs": []
    },
    {
      "cell_type": "code",
      "metadata": {
        "id": "Kphx-w0yUyH_",
        "colab_type": "code",
        "colab": {
          "base_uri": "https://localhost:8080/",
          "height": 34
        },
        "outputId": "2e4bfefd-edec-47b1-adb2-ffa7ac4e0897"
      },
      "source": [
        "#mounting drive for importing dataset from drive\n",
        "from google.colab import drive\n",
        "drive.mount('/content/drive')"
      ],
      "execution_count": 49,
      "outputs": [
        {
          "output_type": "stream",
          "text": [
            "Drive already mounted at /content/drive; to attempt to forcibly remount, call drive.mount(\"/content/drive\", force_remount=True).\n"
          ],
          "name": "stdout"
        }
      ]
    },
    {
      "cell_type": "code",
      "metadata": {
        "id": "av4Ea_xmWaJ3",
        "colab_type": "code",
        "colab": {}
      },
      "source": [
        "#importing dataset\n",
        "train_data = pd.read_csv(\"/content/drive/My Drive/ML_network_dataset/Train_data.csv\")\n",
        "test_data = pd.read_csv(\"/content/drive/My Drive/ML_network_dataset/Test_data.csv\")"
      ],
      "execution_count": 50,
      "outputs": []
    },
    {
      "cell_type": "code",
      "metadata": {
        "id": "Mhpz2MYkWkJG",
        "colab_type": "code",
        "colab": {
          "base_uri": "https://localhost:8080/",
          "height": 289
        },
        "outputId": "27534bfa-66c1-4a79-f304-5d170bdf12d7"
      },
      "source": [
        "#displaying train and test data\n",
        "print(train_data.head())\n",
        "print(test_data.head())"
      ],
      "execution_count": 51,
      "outputs": [
        {
          "output_type": "stream",
          "text": [
            "   duration protocol_type  ... dst_host_srv_rerror_rate    class\n",
            "0         0           tcp  ...                     0.00   normal\n",
            "1         0           udp  ...                     0.00   normal\n",
            "2         0           tcp  ...                     0.00  anomaly\n",
            "3         0           tcp  ...                     0.01   normal\n",
            "4         0           tcp  ...                     0.00   normal\n",
            "\n",
            "[5 rows x 42 columns]\n",
            "   duration protocol_type  ... dst_host_rerror_rate dst_host_srv_rerror_rate\n",
            "0         0           tcp  ...                 1.00                     1.00\n",
            "1         0           tcp  ...                 1.00                     1.00\n",
            "2         2           tcp  ...                 0.00                     0.00\n",
            "3         0          icmp  ...                 0.00                     0.00\n",
            "4         1           tcp  ...                 0.83                     0.71\n",
            "\n",
            "[5 rows x 41 columns]\n"
          ],
          "name": "stdout"
        }
      ]
    },
    {
      "cell_type": "markdown",
      "metadata": {
        "id": "WNT_0nB3mRGG",
        "colab_type": "text"
      },
      "source": [
        "## Preprocessing of data"
      ]
    },
    {
      "cell_type": "markdown",
      "metadata": {
        "id": "bwmFJxC1m9CO",
        "colab_type": "text"
      },
      "source": [
        "The feature 'num_outbound_cmds' is redundant, so droping it."
      ]
    },
    {
      "cell_type": "code",
      "metadata": {
        "id": "35VaCtqN1Nrg",
        "colab_type": "code",
        "colab": {}
      },
      "source": [
        "train_data.drop(['num_outbound_cmds'], axis=1, inplace=True)\n",
        "test_data.drop(['num_outbound_cmds'], axis=1, inplace=True)"
      ],
      "execution_count": 52,
      "outputs": []
    },
    {
      "cell_type": "code",
      "metadata": {
        "id": "cWQYKNlzf364",
        "colab_type": "code",
        "colab": {
          "base_uri": "https://localhost:8080/",
          "height": 284
        },
        "outputId": "06a934b9-d42c-482b-c94d-230d44360117"
      },
      "source": [
        "class_data = list(train_data['class'])\n",
        "sns.countplot(class_data)"
      ],
      "execution_count": 67,
      "outputs": [
        {
          "output_type": "execute_result",
          "data": {
            "text/plain": [
              "<matplotlib.axes._subplots.AxesSubplot at 0x7f290dde59b0>"
            ]
          },
          "metadata": {
            "tags": []
          },
          "execution_count": 67
        },
        {
          "output_type": "display_data",
          "data": {
            "image/png": "[encoded data removed]",
            "text/plain": [
              "<Figure size 432x288 with 1 Axes>"
            ]
          },
          "metadata": {
            "tags": [],
            "needs_background": "light"
          }
        }
      ]
    },
    {
      "cell_type": "markdown",
      "metadata": {
        "id": "SOl5yWa3nbFS",
        "colab_type": "text"
      },
      "source": [
        "Procesing the numerical and catagorical data."
      ]
    },
    {
      "cell_type": "code",
      "metadata": {
        "id": "saG0KKXKvFz3",
        "colab_type": "code",
        "colab": {
          "base_uri": "https://localhost:8080/",
          "height": 34
        },
        "outputId": "ec14a035-b557-46f7-fabf-7959c01bab19"
      },
      "source": [
        "from sklearn.preprocessing import StandardScaler\n",
        "from sklearn.preprocessing import LabelEncoder\n",
        "scaler = StandardScaler()\n",
        "encoder = LabelEncoder()\n",
        " \n",
        "columns_num = train_data.select_dtypes(include=['float64','int64']).columns\n",
        "train_data_num = scaler.fit_transform(train_data.select_dtypes(include=['float64','int64']))\n",
        "test_data_num = scaler.fit_transform(test_data.select_dtypes(include=['float64','int64']))\n",
        "train_data_num = pd.DataFrame(train_data_num, columns = columns_num)\n",
        "test_data_num = pd.DataFrame(test_data_num, columns = columns_num)\n",
        "\n",
        "train_data_cat = train_data.select_dtypes(include=['object']).copy()\n",
        "test_data_cat = test_data.select_dtypes(include=['object']).copy()\n",
        "train_data_cat = train_data_cat.apply(encoder.fit_transform)\n",
        "test_data_cat = test_data_cat.apply(encoder.fit_transform)\n",
        "train_data_cat_X = train_data_cat.drop(['class'], axis=1)\n",
        "train_data_cat_Y = train_data_cat[['class']].copy()\n",
        "\n",
        "train_x = pd.concat([train_data_num,train_data_cat_X],axis=1)\n",
        "train_y = train_data['class']\n",
        "train_x.shape\n",
        "test_data_ = pd.concat([test_data_num,test_data_cat],axis=1)\n",
        "test_data_.shape\n"
      ],
      "execution_count": 54,
      "outputs": [
        {
          "output_type": "execute_result",
          "data": {
            "text/plain": [
              "(22544, 40)"
            ]
          },
          "metadata": {
            "tags": []
          },
          "execution_count": 54
        }
      ]
    },
    {
      "cell_type": "markdown",
      "metadata": {
        "id": "B4eTkXJGp_ta",
        "colab_type": "text"
      },
      "source": [
        "Processed data"
      ]
    },
    {
      "cell_type": "code",
      "metadata": {
        "id": "5mah7uKtp4Z2",
        "colab_type": "code",
        "colab": {
          "base_uri": "https://localhost:8080/",
          "height": 391
        },
        "outputId": "05abca7c-9877-48ad-8051-6082d2aa0d96"
      },
      "source": [
        "print(train_x.head())\n",
        "print(train_y.head())\n",
        "print(test_data_.head())"
      ],
      "execution_count": 55,
      "outputs": [
        {
          "output_type": "stream",
          "text": [
            "   duration  src_bytes  dst_bytes  ...  protocol_type  service  flag\n",
            "0 -0.113551  -0.009889  -0.039310  ...              1       19     9\n",
            "1 -0.113551  -0.010032  -0.039310  ...              2       41     9\n",
            "2 -0.113551  -0.010093  -0.039310  ...              1       46     5\n",
            "3 -0.113551  -0.009996   0.052473  ...              1       22     9\n",
            "4 -0.113551  -0.010010  -0.034582  ...              1       22     9\n",
            "\n",
            "[5 rows x 40 columns]\n",
            "0     normal\n",
            "1     normal\n",
            "2    anomaly\n",
            "3     normal\n",
            "4     normal\n",
            "Name: class, dtype: object\n",
            "   duration  src_bytes  dst_bytes  ...  protocol_type  service  flag\n",
            "0 -0.155534  -0.021988  -0.096896  ...              1       45     1\n",
            "1 -0.155534  -0.021988  -0.096896  ...              1       45     1\n",
            "2 -0.154113   0.005473  -0.096896  ...              1       19     9\n",
            "3 -0.155534  -0.021946  -0.096896  ...              0       13     9\n",
            "4 -0.154823  -0.021988  -0.096189  ...              1       55     2\n",
            "\n",
            "[5 rows x 40 columns]\n"
          ],
          "name": "stdout"
        }
      ]
    },
    {
      "cell_type": "markdown",
      "metadata": {
        "id": "mS5aXc7aqCXu",
        "colab_type": "text"
      },
      "source": [
        "# Feature Selection\n",
        "## Performing **Forward Selection**"
      ]
    },
    {
      "cell_type": "code",
      "metadata": {
        "id": "NxQv-kxrxwHY",
        "colab_type": "code",
        "colab": {
          "base_uri": "https://localhost:8080/",
          "height": 816
        },
        "outputId": "a4ea0f44-9d9a-4326-c365-5d15c0685d4d"
      },
      "source": [
        "#increse the number of features to be selected as needed(as of now its set to 15 out of 40)\n",
        "forwardres = SFS(RandomForestClassifier(n_estimators=100, random_state=0, n_jobs = -1),\n",
        "         k_features = 15,\n",
        "          forward= True,\n",
        "          floating = False,\n",
        "          verbose= 2,\n",
        "          scoring= 'accuracy',\n",
        "          cv = 4,\n",
        "          n_jobs= -1\n",
        "         ).fit(train_x, train_y)\n"
      ],
      "execution_count": null,
      "outputs": [
        {
          "output_type": "stream",
          "text": [
            "[Parallel(n_jobs=-1)]: Using backend LokyBackend with 2 concurrent workers.\n",
            "[Parallel(n_jobs=-1)]: Done  37 tasks      | elapsed:  1.2min\n",
            "[Parallel(n_jobs=-1)]: Done  40 out of  40 | elapsed:  1.3min finished\n",
            "\n",
            "[2020-07-13 06:32:30] Features: 1/15 -- score: 0.962289615751032[Parallel(n_jobs=-1)]: Using backend LokyBackend with 2 concurrent workers.\n",
            "[Parallel(n_jobs=-1)]: Done  39 out of  39 | elapsed:  1.9min finished\n",
            "\n",
            "[2020-07-13 06:34:27] Features: 2/15 -- score: 0.9875357256271832[Parallel(n_jobs=-1)]: Using backend LokyBackend with 2 concurrent workers.\n",
            "[Parallel(n_jobs=-1)]: Done  38 out of  38 | elapsed:  2.0min finished\n",
            "\n",
            "[2020-07-13 06:36:26] Features: 3/15 -- score: 0.9939663385201651[Parallel(n_jobs=-1)]: Using backend LokyBackend with 2 concurrent workers.\n",
            "[Parallel(n_jobs=-1)]: Done  37 out of  37 | elapsed:  2.0min finished\n",
            "\n",
            "[2020-07-13 06:38:23] Features: 4/15 -- score: 0.9959114004445856[Parallel(n_jobs=-1)]: Using backend LokyBackend with 2 concurrent workers.\n",
            "[Parallel(n_jobs=-1)]: Done  36 out of  36 | elapsed:  2.1min finished\n",
            "\n",
            "[2020-07-13 06:40:29] Features: 5/15 -- score: 0.9966259129882502[Parallel(n_jobs=-1)]: Using backend LokyBackend with 2 concurrent workers.\n",
            "[Parallel(n_jobs=-1)]: Done  35 out of  35 | elapsed:  1.9min finished\n",
            "\n",
            "[2020-07-13 06:42:26] Features: 6/15 -- score: 0.9970228644013972[Parallel(n_jobs=-1)]: Using backend LokyBackend with 2 concurrent workers.\n",
            "[Parallel(n_jobs=-1)]: Done  34 out of  34 | elapsed:  1.9min finished\n",
            "\n",
            "[2020-07-13 06:44:22] Features: 7/15 -- score: 0.997062559542712[Parallel(n_jobs=-1)]: Using backend LokyBackend with 2 concurrent workers.\n",
            "[Parallel(n_jobs=-1)]: Done  33 out of  33 | elapsed:  1.8min finished\n",
            "\n",
            "[2020-07-13 06:46:09] Features: 8/15 -- score: 0.9973801206732296[Parallel(n_jobs=-1)]: Using backend LokyBackend with 2 concurrent workers.\n",
            "[Parallel(n_jobs=-1)]: Done  32 out of  32 | elapsed:  1.9min finished\n",
            "\n",
            "[2020-07-13 06:48:05] Features: 9/15 -- score: 0.9977770720863766[Parallel(n_jobs=-1)]: Using backend LokyBackend with 2 concurrent workers.\n",
            "[Parallel(n_jobs=-1)]: Done  31 out of  31 | elapsed:  1.9min finished\n",
            "\n",
            "[2020-07-13 06:49:56] Features: 10/15 -- score: 0.9977373769450619[Parallel(n_jobs=-1)]: Using backend LokyBackend with 2 concurrent workers.\n",
            "[Parallel(n_jobs=-1)]: Done  30 out of  30 | elapsed:  1.8min finished\n",
            "\n",
            "[2020-07-13 06:51:43] Features: 11/15 -- score: 0.9977373769450619[Parallel(n_jobs=-1)]: Using backend LokyBackend with 2 concurrent workers.\n",
            "[Parallel(n_jobs=-1)]: Done  29 out of  29 | elapsed:  1.8min finished\n",
            "\n",
            "[2020-07-13 06:53:30] Features: 12/15 -- score: 0.9979358526516354[Parallel(n_jobs=-1)]: Using backend LokyBackend with 2 concurrent workers.\n",
            "[Parallel(n_jobs=-1)]: Done  28 out of  28 | elapsed:  1.6min finished\n",
            "\n",
            "[2020-07-13 06:55:08] Features: 13/15 -- score: 0.9979358526516355[Parallel(n_jobs=-1)]: Using backend LokyBackend with 2 concurrent workers.\n",
            "[Parallel(n_jobs=-1)]: Done  27 out of  27 | elapsed:  1.5min finished\n",
            "\n",
            "[2020-07-13 06:56:40] Features: 14/15 -- score: 0.9978961575103208[Parallel(n_jobs=-1)]: Using backend LokyBackend with 2 concurrent workers.\n",
            "[Parallel(n_jobs=-1)]: Done  26 out of  26 | elapsed:  1.5min finished\n",
            "\n",
            "[2020-07-13 06:58:10] Features: 15/15 -- score: 0.9977373769450619"
          ],
          "name": "stderr"
        }
      ]
    },
    {
      "cell_type": "code",
      "metadata": {
        "id": "XQRxtPvr-9xs",
        "colab_type": "code",
        "colab": {
          "base_uri": "https://localhost:8080/",
          "height": 190
        },
        "outputId": "9e11d3fd-eb81-476f-bdda-201bc6f115b0"
      },
      "source": [
        "#selected features and resulting dataset\n",
        "features = pd.array(forwardres.k_feature_names_)\n",
        "print(features)\n",
        "traindata_ = train_x[features]\n",
        "print(traindata_.head())"
      ],
      "execution_count": 57,
      "outputs": [
        {
          "output_type": "stream",
          "text": [
            "['duration', 'src_bytes', 'dst_bytes', 'land', 'su_attempted', 'num_file_creations', 'srv_rerror_rate', 'same_srv_rate', 'dst_host_same_srv_rate', 'dst_host_serror_rate', 'dst_host_srv_serror_rate', 'dst_host_rerror_rate', 'protocol_type', 'service', 'flag']\n",
            "   duration  src_bytes  dst_bytes  ...  protocol_type  service  flag\n",
            "0 -0.113551  -0.009889  -0.039310  ...              1       19     9\n",
            "1 -0.113551  -0.010032  -0.039310  ...              2       41     9\n",
            "2 -0.113551  -0.010093  -0.039310  ...              1       46     5\n",
            "3 -0.113551  -0.009996   0.052473  ...              1       22     9\n",
            "4 -0.113551  -0.010010  -0.034582  ...              1       22     9\n",
            "\n",
            "[5 rows x 15 columns]\n"
          ],
          "name": "stdout"
        }
      ]
    },
    {
      "cell_type": "markdown",
      "metadata": {
        "id": "6orkse7gwJao",
        "colab_type": "text"
      },
      "source": [
        "# Training the models"
      ]
    },
    {
      "cell_type": "code",
      "metadata": {
        "id": "h7vfBjYd_sZE",
        "colab_type": "code",
        "colab": {}
      },
      "source": [
        "#splitting train to train and test to feed the model and evaluate\n",
        "from sklearn.model_selection import train_test_split\n",
        "X_train,X_test,Y_train,Y_test = train_test_split(traindata_,train_y,train_size=0.70, random_state=2)"
      ],
      "execution_count": 58,
      "outputs": []
    },
    {
      "cell_type": "code",
      "metadata": {
        "id": "TUpz3RqSAkLJ",
        "colab_type": "code",
        "colab": {}
      },
      "source": [
        "#Selected models\n",
        "selected_models = []\n",
        "\n",
        "#SVM Classifier\n",
        "#KNeighborsClassifier Model\n",
        "#LogisticRegression Model\n",
        "#NaiveBayes Model\n",
        "#DecisionTree Model\n",
        "\n",
        "from sklearn.svm import SVC\n",
        "SVM_Classifier = SVC(kernel='rbf', random_state = 1)\n",
        "SVM_Classifier.fit(X_train,Y_train)\n",
        "\n",
        "from sklearn.naive_bayes import BernoulliNB \n",
        "BNB_Classifier = BernoulliNB()\n",
        "BNB_Classifier.fit(X_train, Y_train)\n",
        "\n",
        "from sklearn import tree\n",
        "DTC_Classifier = tree.DecisionTreeClassifier(criterion='entropy', random_state=0)\n",
        "DTC_Classifier.fit(X_train, Y_train)\n",
        "\n",
        "from sklearn.neighbors import KNeighborsClassifier\n",
        "KNN_Classifier = KNeighborsClassifier(n_jobs=-1)\n",
        "KNN_Classifier.fit(X_train, Y_train)\n",
        "\n",
        "from sklearn.linear_model import LogisticRegression\n",
        "LGR_Classifier = LogisticRegression(n_jobs=-1, random_state=0)\n",
        "LGR_Classifier.fit(X_train, Y_train)\n",
        "\n",
        "selected_models.append(('SVM Classifier', SVM_Classifier))\n",
        "selected_models.append(('Naive Bayes Classifier', BNB_Classifier))\n",
        "selected_models.append(('Decision Tree Classifier', DTC_Classifier))\n",
        "selected_models.append(('KNeighborsClassifier', KNN_Classifier))\n",
        "selected_models.append(('LogisticRegression', LGR_Classifier))\n",
        "\n"
      ],
      "execution_count": 61,
      "outputs": []
    },
    {
      "cell_type": "code",
      "metadata": {
        "id": "hHMN6zo_Ars3",
        "colab_type": "code",
        "colab": {
          "base_uri": "https://localhost:8080/",
          "height": 1000
        },
        "outputId": "c1228c2c-9031-4289-9e24-4252db1767b0"
      },
      "source": [
        "from sklearn import metrics\n",
        "from sklearn.model_selection import cross_val_score\n",
        "\n",
        "print('SVM Classifier')\n",
        "classification = metrics.classification_report(Y_train, SVM_Classifier.predict(X_train))\n",
        "print(\"Classification report:\" \"\\n\", classification)\n",
        "scores = cross_val_score(SVM_Classifier, X_train, Y_train, cv=10)\n",
        "print(\"Cross Validation Score: \", scores.mean())\n",
        "accuracy = metrics.accuracy_score(Y_train, SVM_Classifier.predict(X_train))\n",
        "print(\"Accuracy: \", accuracy)\n",
        "confusion_matrix = metrics.confusion_matrix(Y_train, SVM_Classifier.predict(X_train))\n",
        "print(\"Confusion matrix:\" \"\\n\", confusion_matrix)\n",
        "print() \n",
        "\n",
        "print('Naive Bayes Classifier')\n",
        "classification = metrics.classification_report(Y_train, BNB_Classifier.predict(X_train))\n",
        "print(\"Classification report:\" \"\\n\", classification)\n",
        "scores = cross_val_score(BNB_Classifier, X_train, Y_train, cv=10)\n",
        "print(\"Cross Validation Score: \", scores.mean())\n",
        "accuracy = metrics.accuracy_score(Y_train, BNB_Classifier.predict(X_train))\n",
        "print(\"Accuracy: \", accuracy)\n",
        "confusion_matrix = metrics.confusion_matrix(Y_train, BNB_Classifier.predict(X_train))\n",
        "print(\"Confusion matrix:\" \"\\n\", confusion_matrix)\n",
        "print() \n",
        "\n",
        "print('Decision Tree Classifier')\n",
        "classification = metrics.classification_report(Y_train, DTC_Classifier.predict(X_train))\n",
        "print(\"Classification report:\" \"\\n\", classification)\n",
        "scores = cross_val_score(DTC_Classifier, X_train, Y_train, cv=10)\n",
        "print(\"Cross Validation Score: \", scores.mean())\n",
        "accuracy = metrics.accuracy_score(Y_train, DTC_Classifier.predict(X_train))\n",
        "print(\"Accuracy: \", accuracy)\n",
        "confusion_matrix = metrics.confusion_matrix(Y_train, DTC_Classifier.predict(X_train))\n",
        "print(\"Confusion matrix:\" \"\\n\", confusion_matrix)\n",
        "print() \n",
        "\n",
        "print('KNeighborsClassifier')\n",
        "classification = metrics.classification_report(Y_train, KNN_Classifier.predict(X_train))\n",
        "print(\"Classification report:\" \"\\n\", classification)\n",
        "scores = cross_val_score(KNN_Classifier, X_train, Y_train, cv=10)\n",
        "print(\"Cross Validation Score: \", scores.mean())\n",
        "accuracy = metrics.accuracy_score(Y_train, KNN_Classifier.predict(X_train))\n",
        "print(\"Accuracy: \", accuracy)\n",
        "confusion_matrix = metrics.confusion_matrix(Y_train, KNN_Classifier.predict(X_train))\n",
        "print(\"Confusion matrix:\" \"\\n\", confusion_matrix)\n",
        "print() \n",
        "\n",
        "print('LogisticRegression')\n",
        "classification = metrics.classification_report(Y_train, LGR_Classifier.predict(X_train))\n",
        "print(\"Classification report:\" \"\\n\", classification)\n",
        "scores = cross_val_score(LGR_Classifier, X_train, Y_train, cv=10)\n",
        "print(\"Cross Validation Score: \", scores.mean())\n",
        "accuracy = metrics.accuracy_score(Y_train, LGR_Classifier.predict(X_train))\n",
        "print(\"Accuracy: \", accuracy)\n",
        "confusion_matrix = metrics.confusion_matrix(Y_train, LGR_Classifier.predict(X_train))\n",
        "print(\"Confusion matrix:\" \"\\n\", confusion_matrix)\n",
        "print() \n",
        "\n"
      ],
      "execution_count": 62,
      "outputs": [
        {
          "output_type": "stream",
          "text": [
            "SVM Classifier\n",
            "Classification report:\n",
            "               precision    recall  f1-score   support\n",
            "\n",
            "     anomaly       0.97      0.92      0.95      8245\n",
            "      normal       0.94      0.98      0.96      9389\n",
            "\n",
            "    accuracy                           0.95     17634\n",
            "   macro avg       0.95      0.95      0.95     17634\n",
            "weighted avg       0.95      0.95      0.95     17634\n",
            "\n",
            "Cross Validation Score:  0.9509467731127239\n",
            "Accuracy:  0.952534875808098\n",
            "Confusion matrix:\n",
            " [[7616  629]\n",
            " [ 208 9181]]\n",
            "\n",
            "Naive Bayes Classifier\n",
            "Classification report:\n",
            "               precision    recall  f1-score   support\n",
            "\n",
            "     anomaly       0.94      0.82      0.87      8245\n",
            "      normal       0.86      0.95      0.90      9389\n",
            "\n",
            "    accuracy                           0.89     17634\n",
            "   macro avg       0.90      0.89      0.89     17634\n",
            "weighted avg       0.89      0.89      0.89     17634\n",
            "\n",
            "Cross Validation Score:  0.8898706145343371\n",
            "Accuracy:  0.8898718384938188\n",
            "Confusion matrix:\n",
            " [[6748 1497]\n",
            " [ 445 8944]]\n",
            "\n",
            "Decision Tree Classifier\n",
            "Classification report:\n",
            "               precision    recall  f1-score   support\n",
            "\n",
            "     anomaly       1.00      1.00      1.00      8245\n",
            "      normal       1.00      1.00      1.00      9389\n",
            "\n",
            "    accuracy                           1.00     17634\n",
            "   macro avg       1.00      1.00      1.00     17634\n",
            "weighted avg       1.00      1.00      1.00     17634\n",
            "\n",
            "Cross Validation Score:  0.9961439992900166\n",
            "Accuracy:  1.0\n",
            "Confusion matrix:\n",
            " [[8245    0]\n",
            " [   0 9389]]\n",
            "\n",
            "KNeighborsClassifier\n",
            "Classification report:\n",
            "               precision    recall  f1-score   support\n",
            "\n",
            "     anomaly       0.99      0.99      0.99      8245\n",
            "      normal       0.99      1.00      0.99      9389\n",
            "\n",
            "    accuracy                           0.99     17634\n",
            "   macro avg       0.99      0.99      0.99     17634\n",
            "weighted avg       0.99      0.99      0.99     17634\n",
            "\n",
            "Cross Validation Score:  0.9879209256022319\n",
            "Accuracy:  0.9918339571282749\n",
            "Confusion matrix:\n",
            " [[8146   99]\n",
            " [  45 9344]]\n",
            "\n",
            "LogisticRegression\n",
            "Classification report:\n",
            "               precision    recall  f1-score   support\n",
            "\n",
            "     anomaly       0.95      0.92      0.93      8245\n",
            "      normal       0.93      0.96      0.94      9389\n",
            "\n",
            "    accuracy                           0.94     17634\n",
            "   macro avg       0.94      0.94      0.94     17634\n",
            "weighted avg       0.94      0.94      0.94     17634\n",
            "\n",
            "Cross Validation Score:  0.939661863989309\n",
            "Accuracy:  0.939548599296813\n",
            "Confusion matrix:\n",
            " [[7576  669]\n",
            " [ 397 8992]]\n",
            "\n"
          ],
          "name": "stdout"
        }
      ]
    },
    {
      "cell_type": "markdown",
      "metadata": {
        "id": "UzeDfWbiJl4T",
        "colab_type": "text"
      },
      "source": [
        "# Testing the model for finding best model"
      ]
    },
    {
      "cell_type": "code",
      "metadata": {
        "id": "czPf0-LIGE4T",
        "colab_type": "code",
        "colab": {
          "base_uri": "https://localhost:8080/",
          "height": 1000
        },
        "outputId": "5f3d00cf-3db3-4cba-d9e5-c42d90b693bc"
      },
      "source": [
        "#Testing the models\n",
        "accuracyofmodels = []\n",
        "\n",
        "for i, j in selected_models:\n",
        "\n",
        "    print(i)\n",
        "\n",
        "    classification = metrics.classification_report(Y_test, j.predict(X_test))\n",
        "    print(\"Classification report:\" \"\\n\", classification)\n",
        "\n",
        "    accuracy = metrics.accuracy_score(Y_test, j.predict(X_test))\n",
        "    print (\"Accuracy: \", accuracy)\n",
        "\n",
        "    confusion_matrix = metrics.confusion_matrix(Y_test, j.predict(X_test))\n",
        "    print(\"Confusion matrix:\" \"\\n\"  , confusion_matrix)\n",
        "     \n",
        "    accuracyofmodels.append(accuracy)\n",
        "\n",
        "    print()\n",
        "\n",
        "print(accuracyofmodels)\n",
        "best_model = accuracyofmodels.index(max(accuracyofmodels))\n",
        "print(selected_models[best_model][0])   "
      ],
      "execution_count": 68,
      "outputs": [
        {
          "output_type": "stream",
          "text": [
            "SVM Classifier\n",
            "Classification report:\n",
            "               precision    recall  f1-score   support\n",
            "\n",
            "     anomaly       0.97      0.93      0.95      3498\n",
            "      normal       0.94      0.98      0.96      4060\n",
            "\n",
            "    accuracy                           0.95      7558\n",
            "   macro avg       0.96      0.95      0.95      7558\n",
            "weighted avg       0.96      0.95      0.95      7558\n",
            "\n",
            "Accuracy:  0.9543530034400635\n",
            "Confusion matrix:\n",
            " [[3246  252]\n",
            " [  93 3967]]\n",
            "\n",
            "Naive Bayes Classifier\n",
            "Classification report:\n",
            "               precision    recall  f1-score   support\n",
            "\n",
            "     anomaly       0.93      0.82      0.87      3498\n",
            "      normal       0.86      0.95      0.90      4060\n",
            "\n",
            "    accuracy                           0.89      7558\n",
            "   macro avg       0.89      0.88      0.89      7558\n",
            "weighted avg       0.89      0.89      0.89      7558\n",
            "\n",
            "Accuracy:  0.8885948663667637\n",
            "Confusion matrix:\n",
            " [[2876  622]\n",
            " [ 220 3840]]\n",
            "\n",
            "Decision Tree Classifier\n",
            "Classification report:\n",
            "               precision    recall  f1-score   support\n",
            "\n",
            "     anomaly       0.99      1.00      0.99      3498\n",
            "      normal       1.00      0.99      1.00      4060\n",
            "\n",
            "    accuracy                           1.00      7558\n",
            "   macro avg       0.99      1.00      1.00      7558\n",
            "weighted avg       1.00      1.00      1.00      7558\n",
            "\n",
            "Accuracy:  0.9951045250066155\n",
            "Confusion matrix:\n",
            " [[3487   11]\n",
            " [  26 4034]]\n",
            "\n",
            "KNeighborsClassifier\n",
            "Classification report:\n",
            "               precision    recall  f1-score   support\n",
            "\n",
            "     anomaly       0.99      0.99      0.99      3498\n",
            "      normal       0.99      0.99      0.99      4060\n",
            "\n",
            "    accuracy                           0.99      7558\n",
            "   macro avg       0.99      0.99      0.99      7558\n",
            "weighted avg       0.99      0.99      0.99      7558\n",
            "\n",
            "Accuracy:  0.990209050013231\n",
            "Confusion matrix:\n",
            " [[3452   46]\n",
            " [  28 4032]]\n",
            "\n",
            "LogisticRegression\n",
            "Classification report:\n",
            "               precision    recall  f1-score   support\n",
            "\n",
            "     anomaly       0.94      0.93      0.93      3498\n",
            "      normal       0.94      0.95      0.94      4060\n",
            "\n",
            "    accuracy                           0.94      7558\n",
            "   macro avg       0.94      0.94      0.94      7558\n",
            "weighted avg       0.94      0.94      0.94      7558\n",
            "\n",
            "Accuracy:  0.9397988885948664\n",
            "Confusion matrix:\n",
            " [[3236  262]\n",
            " [ 193 3867]]\n",
            "\n",
            "[0.9543530034400635, 0.8885948663667637, 0.9951045250066155, 0.990209050013231, 0.9397988885948664]\n",
            "Decision Tree Classifier\n"
          ],
          "name": "stdout"
        }
      ]
    },
    {
      "cell_type": "markdown",
      "metadata": {
        "id": "XA6RnL8Dwz42",
        "colab_type": "text"
      },
      "source": [
        "# Predicting the state of the packet using the best trained model"
      ]
    },
    {
      "cell_type": "code",
      "metadata": {
        "id": "VS3rOWvhOeC-",
        "colab_type": "code",
        "colab": {
          "base_uri": "https://localhost:8080/",
          "height": 418
        },
        "outputId": "5e1a3f18-37d1-404c-cdfb-28092740401b"
      },
      "source": [
        "#selecting features in test data\n",
        "testdata_ = test_data_[features]\n",
        "#Predicting the nature of packets using the best model selected\n",
        "if selected_models[best_model][0] == 'SVM Classifier':\n",
        "  print(\"Best model for given dataset is [SVM classifier] and evaluating test dataset based on that model\")\n",
        "  pred_SVM = SVM_Classifier.predict(testdata_)\n",
        "  pred_SVM_list = list(pred_SVM)\n",
        "  pred_SVM = pd.DataFrame(pred_SVM)\n",
        "  result = pd.concat([test_data_, pred_SVM],axis=1)\n",
        "  result.shape\n",
        "  print(result.head())\n",
        "  sns.countplot(pred_SVM_list)\n",
        "elif selected_models[best_model][0] == 'Naive Bayes Classifier':\n",
        "  print(\"Best model for given dataset is [Naive Baye Classifier] and evaluating test dataset based on that model\")\n",
        "  pred_NB = BNB_Classifier.predict(testdata_)\n",
        "  pred_NB_list = list(pred_NB)\n",
        "  pred_NB = pd.DataFrame(pred_NB)\n",
        "  result = pd.concat([test_data_, pred_NB],axis=1)\n",
        "  result.shape\n",
        "  print(result.head())\n",
        "  sns.countplot(pred_NB_list)\n",
        "elif selected_models[best_model][0] == 'Decision Tree Classifier':\n",
        "  print(\"Best model for given dataset is [Decision Tree Classifier] and evaluating test dataset based on that model\")\n",
        "  pred_dt = DTC_Classifier.predict(testdata_)\n",
        "  pred_dtc_list = list(pred_dt)\n",
        "  pred_dt = pd.DataFrame(pred_dt)\n",
        "  result = pd.concat([test_data_, pred_dt],axis=1)\n",
        "  result.shape\n",
        "  print(result.head())\n",
        "  sns.countplot(pred_dtc_list)\n",
        "elif selected_models[best_model][0] == 'KNeighborsClassifier':\n",
        "  print(\"Best model for given dataset is [KNeighbors Classifier] and evaluating test dataset based on that model\")\n",
        "  pred_knn = KNN_Classifier.predict(testdata_)\n",
        "  pred_knn_list = list(pred_knn)\n",
        "  pred_knn = pd.DataFrame(pred_knn)\n",
        "  result = pd.concat([test_data_, pred_knn],axis=1)\n",
        "  result.shape\n",
        "  print(result.head())\n",
        "  sns.countplot(pred_knn_list)\n",
        "else:\n",
        "  print(\"Best model for given dataset is [LogisticRegression] and evaluating test dataset based on that model\")\n",
        "  pred_log = LGR_Classifier.predict(testdata_)\n",
        "  pred_log_list = list(pred_log)\n",
        "  pred_log = pd.DataFrame(pred_log)\n",
        "  result = pd.concat([test_data_, pred_log],axis=1)\n",
        "  result.shape\n",
        "  print(result.head())\n",
        "  sns.countplot(pred_log_list)\n",
        "  \n"
      ],
      "execution_count": 69,
      "outputs": [
        {
          "output_type": "stream",
          "text": [
            "Best model for given dataset is [Decision Tree Classifier] and evaluating test dataset based on that model\n",
            "   duration  src_bytes  dst_bytes  ...  service  flag        0\n",
            "0 -0.155534  -0.021988  -0.096896  ...       45     1  anomaly\n",
            "1 -0.155534  -0.021988  -0.096896  ...       45     1  anomaly\n",
            "2 -0.154113   0.005473  -0.096896  ...       19     9   normal\n",
            "3 -0.155534  -0.021946  -0.096896  ...       13     9  anomaly\n",
            "4 -0.154823  -0.021988  -0.096189  ...       55     2  anomaly\n",
            "\n",
            "[5 rows x 41 columns]\n"
          ],
          "name": "stdout"
        },
        {
          "output_type": "display_data",
          "data": {
            "image/png": "[encoded data removed]",
            "text/plain": [
              "<Figure size 432x288 with 1 Axes>"
            ]
          },
          "metadata": {
            "tags": [],
            "needs_background": "light"
          }
        }
      ]
    },
    {
      "cell_type": "code",
      "metadata": {
        "id": "TpBBUiv_t-5D",
        "colab_type": "code",
        "colab": {
          "base_uri": "https://localhost:8080/",
          "height": 68
        },
        "outputId": "580919b5-384e-49b3-c8eb-bfa84918a06b"
      },
      "source": [
        "result[0].value_counts()"
      ],
      "execution_count": 65,
      "outputs": [
        {
          "output_type": "execute_result",
          "data": {
            "text/plain": [
              "anomaly    13046\n",
              "normal      9498\n",
              "Name: 0, dtype: int64"
            ]
          },
          "metadata": {
            "tags": []
          },
          "execution_count": 65
        }
      ]
    },
    {
      "cell_type": "markdown",
      "metadata": {
        "id": "bZFdTDIXyAw_",
        "colab_type": "text"
      },
      "source": [
        "Hence, the packet of class anomaly are malicious.\n"
      ]
    },
    {
      "cell_type": "markdown",
      "metadata": {
        "id": "UouNtywUxy2b",
        "colab_type": "text"
      },
      "source": [
        "# Thank You"
      ]
    }
  ]
}