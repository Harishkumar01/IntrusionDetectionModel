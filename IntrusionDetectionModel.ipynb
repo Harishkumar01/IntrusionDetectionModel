{
  "nbformat": 4,
  "nbformat_minor": 0,
  "metadata": {
    "colab": {
      "name": "IntrusionDetectionModel.ipynb",
      "provenance": [],
      "collapsed_sections": [],
      "authorship_tag": "ABX9TyPCTgNFp7fFZWX+lV1NvICW",
      "include_colab_link": true
    },
    "kernelspec": {
      "name": "python3",
      "display_name": "Python 3"
    }
  },
  "cells": [
    {
      "cell_type": "markdown",
      "metadata": {
        "id": "view-in-github",
        "colab_type": "text"
      },
      "source": [
        "<a href=\"https://colab.research.google.com/github/Harishkumar01/IntrusionDetectionModel/blob/master/IntrusionDetectionModel.ipynb\" target=\"_parent\"><img src=\"https://colab.research.google.com/assets/colab-badge.svg\" alt=\"Open In Colab\"/></a>"
      ]
    },
    {
      "cell_type": "markdown",
      "metadata": {
        "id": "9VBN7Doomfet",
        "colab_type": "text"
      },
      "source": [
        "# Evaluating a Model for Network Intrusion Detection"
      ]
    },
    {
      "cell_type": "markdown",
      "metadata": {
        "id": "Xd1Twtb2lbCF",
        "colab_type": "text"
      },
      "source": [
        "Objective is to select best model to predict whether the given data packet is malicious or normal"
      ]
    },
    {
      "cell_type": "markdown",
      "metadata": {
        "id": "o-61ZK3_l51J",
        "colab_type": "text"
      },
      "source": [
        "This done by two steps which is proper preprocessing of data followed by training it to different models and validating the resuts."
      ]
    },
    {
      "cell_type": "code",
      "metadata": {
        "id": "v7ykNvFCQdq0",
        "colab_type": "code",
        "colab": {}
      },
      "source": [
        "#importing requires modules\n",
        "import pandas as pd\n",
        "import seaborn as sns\n",
        "import sklearn\n",
        "from mlxtend.feature_selection import SequentialFeatureSelector as SFS\n",
        "from sklearn.ensemble import RandomForestRegressor, RandomForestClassifier\n"
      ],
      "execution_count": 71,
      "outputs": []
    },
    {
      "cell_type": "code",
      "metadata": {
        "id": "Kphx-w0yUyH_",
        "colab_type": "code",
        "colab": {
          "base_uri": "https://localhost:8080/",
          "height": 34
        },
        "outputId": "0b93dc46-b761-4820-8547-5c9d903b9434"
      },
      "source": [
        "#mounting drive for importing dataset from drive\n",
        "from google.colab import drive\n",
        "drive.mount('/content/drive')"
      ],
      "execution_count": 72,
      "outputs": [
        {
          "output_type": "stream",
          "text": [
            "Drive already mounted at /content/drive; to attempt to forcibly remount, call drive.mount(\"/content/drive\", force_remount=True).\n"
          ],
          "name": "stdout"
        }
      ]
    },
    {
      "cell_type": "code",
      "metadata": {
        "id": "av4Ea_xmWaJ3",
        "colab_type": "code",
        "colab": {}
      },
      "source": [
        "#importing dataset\n",
        "train_data = pd.read_csv(\"/content/drive/My Drive/ML_network_dataset/Train_data.csv\")\n",
        "test_data = pd.read_csv(\"/content/drive/My Drive/ML_network_dataset/Test_data.csv\")"
      ],
      "execution_count": 73,
      "outputs": []
    },
    {
      "cell_type": "code",
      "metadata": {
        "id": "Mhpz2MYkWkJG",
        "colab_type": "code",
        "colab": {
          "base_uri": "https://localhost:8080/",
          "height": 289
        },
        "outputId": "33e4498c-49aa-4c2e-ec86-85d79f2a0215"
      },
      "source": [
        "#displaying train and test data\n",
        "print(train_data.head())\n",
        "print(test_data.head())"
      ],
      "execution_count": 74,
      "outputs": [
        {
          "output_type": "stream",
          "text": [
            "   duration protocol_type  ... dst_host_srv_rerror_rate    class\n",
            "0         0           tcp  ...                     0.00   normal\n",
            "1         0           udp  ...                     0.00   normal\n",
            "2         0           tcp  ...                     0.00  anomaly\n",
            "3         0           tcp  ...                     0.01   normal\n",
            "4         0           tcp  ...                     0.00   normal\n",
            "\n",
            "[5 rows x 42 columns]\n",
            "   duration protocol_type  ... dst_host_rerror_rate dst_host_srv_rerror_rate\n",
            "0         0           tcp  ...                 1.00                     1.00\n",
            "1         0           tcp  ...                 1.00                     1.00\n",
            "2         2           tcp  ...                 0.00                     0.00\n",
            "3         0          icmp  ...                 0.00                     0.00\n",
            "4         1           tcp  ...                 0.83                     0.71\n",
            "\n",
            "[5 rows x 41 columns]\n"
          ],
          "name": "stdout"
        }
      ]
    },
    {
      "cell_type": "markdown",
      "metadata": {
        "id": "WNT_0nB3mRGG",
        "colab_type": "text"
      },
      "source": [
        "## Preprocessing of data"
      ]
    },
    {
      "cell_type": "markdown",
      "metadata": {
        "id": "bwmFJxC1m9CO",
        "colab_type": "text"
      },
      "source": [
        "The feature 'num_outbound_cmds' is redundant, so droping it."
      ]
    },
    {
      "cell_type": "code",
      "metadata": {
        "id": "sawPX9bg0qYb",
        "colab_type": "code",
        "colab": {
          "base_uri": "https://localhost:8080/",
          "height": 85
        },
        "outputId": "eb529d50-f421-4dd5-d50f-40c710b714f7"
      },
      "source": [
        "print(train_data['num_outbound_cmds'].value_counts())\n",
        "print(test_data['num_outbound_cmds'].value_counts())"
      ],
      "execution_count": 75,
      "outputs": [
        {
          "output_type": "stream",
          "text": [
            "0    25192\n",
            "Name: num_outbound_cmds, dtype: int64\n",
            "0    22544\n",
            "Name: num_outbound_cmds, dtype: int64\n"
          ],
          "name": "stdout"
        }
      ]
    },
    {
      "cell_type": "code",
      "metadata": {
        "id": "35VaCtqN1Nrg",
        "colab_type": "code",
        "colab": {}
      },
      "source": [
        "train_data.drop(['num_outbound_cmds'], axis=1, inplace=True)\n",
        "test_data.drop(['num_outbound_cmds'], axis=1, inplace=True)"
      ],
      "execution_count": 76,
      "outputs": []
    },
    {
      "cell_type": "code",
      "metadata": {
        "id": "cWQYKNlzf364",
        "colab_type": "code",
        "colab": {
          "base_uri": "https://localhost:8080/",
          "height": 68
        },
        "outputId": "36a557ce-97d2-4100-9336-0431b66b21d5"
      },
      "source": [
        "train_data['class'].value_counts()"
      ],
      "execution_count": 77,
      "outputs": [
        {
          "output_type": "execute_result",
          "data": {
            "text/plain": [
              "normal     13449\n",
              "anomaly    11743\n",
              "Name: class, dtype: int64"
            ]
          },
          "metadata": {
            "tags": []
          },
          "execution_count": 77
        }
      ]
    },
    {
      "cell_type": "markdown",
      "metadata": {
        "id": "SOl5yWa3nbFS",
        "colab_type": "text"
      },
      "source": [
        "Procesing the numerical and catagorical data separately."
      ]
    },
    {
      "cell_type": "code",
      "metadata": {
        "id": "saG0KKXKvFz3",
        "colab_type": "code",
        "colab": {
          "base_uri": "https://localhost:8080/",
          "height": 289
        },
        "outputId": "445e58b6-89d1-4608-d5ba-a4487cdc560e"
      },
      "source": [
        "from sklearn.preprocessing import StandardScaler\n",
        "scaler = StandardScaler()\n",
        " \n",
        "columns_num = train_data.select_dtypes(include=['float64','int64']).columns\n",
        "train_data_num = scaler.fit_transform(train_data.select_dtypes(include=['float64','int64']))\n",
        "test_data_num = scaler.fit_transform(test_data.select_dtypes(include=['float64','int64']))\n",
        "train_data_num = pd.DataFrame(train_data_num, columns = columns_num)\n",
        "test_data_num = pd.DataFrame(test_data_num, columns = columns_num)\n",
        "\n",
        "print(train_data_num.head())\n",
        "print(test_data_num.head())"
      ],
      "execution_count": 78,
      "outputs": [
        {
          "output_type": "stream",
          "text": [
            "   duration  src_bytes  ...  dst_host_rerror_rate  dst_host_srv_rerror_rate\n",
            "0 -0.113551  -0.009889  ...             -0.221668                 -0.374281\n",
            "1 -0.113551  -0.010032  ...             -0.385140                 -0.374281\n",
            "2 -0.113551  -0.010093  ...             -0.385140                 -0.374281\n",
            "3 -0.113551  -0.009996  ...             -0.385140                 -0.342768\n",
            "4 -0.113551  -0.010010  ...             -0.385140                 -0.374281\n",
            "\n",
            "[5 rows x 37 columns]\n",
            "   duration  src_bytes  ...  dst_host_rerror_rate  dst_host_srv_rerror_rate\n",
            "0 -0.155534  -0.021988  ...              1.979791                  1.929116\n",
            "1 -0.155534  -0.021988  ...              1.979791                  1.929116\n",
            "2 -0.154113   0.005473  ...             -0.602719                 -0.565483\n",
            "3 -0.155534  -0.021946  ...             -0.602719                 -0.565483\n",
            "4 -0.154823  -0.021988  ...              1.540764                  1.205682\n",
            "\n",
            "[5 rows x 37 columns]\n"
          ],
          "name": "stdout"
        }
      ]
    },
    {
      "cell_type": "code",
      "metadata": {
        "id": "emUdOEuzxZFh",
        "colab_type": "code",
        "colab": {}
      },
      "source": [
        "from sklearn.preprocessing import LabelEncoder\n",
        "encoder = LabelEncoder()\n",
        "\n",
        "train_data_cat = train_data.select_dtypes(include=['object']).copy()\n",
        "test_data_cat = test_data.select_dtypes(include=['object']).copy()\n",
        "train_data_cat = train_data_cat.apply(encoder.fit_transform)\n",
        "test_data_cat = test_data_cat.apply(encoder.fit_transform)\n",
        "\n",
        "train_data_cat_X = train_data_cat.drop(['class'], axis=1)\n",
        "train_data_cat_Y = train_data_cat[['class']].copy()"
      ],
      "execution_count": 79,
      "outputs": []
    },
    {
      "cell_type": "code",
      "metadata": {
        "id": "1tOql2SfxecK",
        "colab_type": "code",
        "colab": {
          "base_uri": "https://localhost:8080/",
          "height": 34
        },
        "outputId": "f7b9f366-0601-49c8-f552-3bbe60a05391"
      },
      "source": [
        "train_x = pd.concat([train_data_num,train_data_cat_X],axis=1)\n",
        "train_y = train_data['class']\n",
        "train_x.shape\n",
        "test_data_ = pd.concat([test_data_num,test_data_cat],axis=1)\n",
        "test_data_.shape"
      ],
      "execution_count": 80,
      "outputs": [
        {
          "output_type": "execute_result",
          "data": {
            "text/plain": [
              "(22544, 40)"
            ]
          },
          "metadata": {
            "tags": []
          },
          "execution_count": 80
        }
      ]
    },
    {
      "cell_type": "markdown",
      "metadata": {
        "id": "B4eTkXJGp_ta",
        "colab_type": "text"
      },
      "source": [
        "Processed data"
      ]
    },
    {
      "cell_type": "code",
      "metadata": {
        "id": "5mah7uKtp4Z2",
        "colab_type": "code",
        "colab": {
          "base_uri": "https://localhost:8080/",
          "height": 697
        },
        "outputId": "658cefa2-43df-471a-d852-168dbb27d929"
      },
      "source": [
        "print(train_x)\n",
        "print(train_y)\n",
        "print(test_data_)"
      ],
      "execution_count": 81,
      "outputs": [
        {
          "output_type": "stream",
          "text": [
            "       duration  src_bytes  dst_bytes  ...  protocol_type  service  flag\n",
            "0     -0.113551  -0.009889  -0.039310  ...              1       19     9\n",
            "1     -0.113551  -0.010032  -0.039310  ...              2       41     9\n",
            "2     -0.113551  -0.010093  -0.039310  ...              1       46     5\n",
            "3     -0.113551  -0.009996   0.052473  ...              1       22     9\n",
            "4     -0.113551  -0.010010  -0.034582  ...              1       22     9\n",
            "...         ...        ...        ...  ...            ...      ...   ...\n",
            "25187 -0.113551  -0.010093  -0.039310  ...              1       16     2\n",
            "25188 -0.113551  -0.009954  -0.039310  ...              1       19     9\n",
            "25189 -0.113551  -0.010093  -0.039310  ...              1       46     1\n",
            "25190 -0.113551  -0.010093  -0.039310  ...              1       38     5\n",
            "25191 -0.113551  -0.010093  -0.039310  ...              1       17     5\n",
            "\n",
            "[25192 rows x 40 columns]\n",
            "0         normal\n",
            "1         normal\n",
            "2        anomaly\n",
            "3         normal\n",
            "4         normal\n",
            "          ...   \n",
            "25187    anomaly\n",
            "25188    anomaly\n",
            "25189    anomaly\n",
            "25190    anomaly\n",
            "25191    anomaly\n",
            "Name: class, Length: 25192, dtype: object\n",
            "       duration  src_bytes  dst_bytes  ...  protocol_type  service  flag\n",
            "0     -0.155534  -0.021988  -0.096896  ...              1       45     1\n",
            "1     -0.155534  -0.021988  -0.096896  ...              1       45     1\n",
            "2     -0.154113   0.005473  -0.096896  ...              1       19     9\n",
            "3     -0.155534  -0.021946  -0.096896  ...              0       13     9\n",
            "4     -0.154823  -0.021988  -0.096189  ...              1       55     2\n",
            "...         ...        ...        ...  ...            ...      ...   ...\n",
            "22539 -0.155534  -0.020309  -0.081202  ...              1       49     9\n",
            "22540 -0.155534  -0.021318  -0.052690  ...              1       22     9\n",
            "22541 -0.155534   0.093373   0.294926  ...              1       22     9\n",
            "22542 -0.155534  -0.021899  -0.094917  ...              2       11     9\n",
            "22543 -0.155534  -0.021988  -0.096896  ...              1       52     1\n",
            "\n",
            "[22544 rows x 40 columns]\n"
          ],
          "name": "stdout"
        }
      ]
    },
    {
      "cell_type": "markdown",
      "metadata": {
        "id": "mS5aXc7aqCXu",
        "colab_type": "text"
      },
      "source": [
        "Performing **Forward Selection** for feature Selection"
      ]
    },
    {
      "cell_type": "code",
      "metadata": {
        "id": "NxQv-kxrxwHY",
        "colab_type": "code",
        "colab": {
          "base_uri": "https://localhost:8080/",
          "height": 816
        },
        "outputId": "a4ea0f44-9d9a-4326-c365-5d15c0685d4d"
      },
      "source": [
        "#increse the number of features to be selected as needed(now its set to 15 out of 40)\n",
        "forwardres = SFS(RandomForestClassifier(n_estimators=100, random_state=0, n_jobs = -1),\n",
        "         k_features = 15,\n",
        "          forward= True,\n",
        "          floating = False,\n",
        "          verbose= 2,\n",
        "          scoring= 'accuracy',\n",
        "          cv = 4,\n",
        "          n_jobs= -1\n",
        "         ).fit(train_x, train_y)\n"
      ],
      "execution_count": 39,
      "outputs": [
        {
          "output_type": "stream",
          "text": [
            "[Parallel(n_jobs=-1)]: Using backend LokyBackend with 2 concurrent workers.\n",
            "[Parallel(n_jobs=-1)]: Done  37 tasks      | elapsed:  1.2min\n",
            "[Parallel(n_jobs=-1)]: Done  40 out of  40 | elapsed:  1.3min finished\n",
            "\n",
            "[2020-07-13 06:32:30] Features: 1/15 -- score: 0.962289615751032[Parallel(n_jobs=-1)]: Using backend LokyBackend with 2 concurrent workers.\n",
            "[Parallel(n_jobs=-1)]: Done  39 out of  39 | elapsed:  1.9min finished\n",
            "\n",
            "[2020-07-13 06:34:27] Features: 2/15 -- score: 0.9875357256271832[Parallel(n_jobs=-1)]: Using backend LokyBackend with 2 concurrent workers.\n",
            "[Parallel(n_jobs=-1)]: Done  38 out of  38 | elapsed:  2.0min finished\n",
            "\n",
            "[2020-07-13 06:36:26] Features: 3/15 -- score: 0.9939663385201651[Parallel(n_jobs=-1)]: Using backend LokyBackend with 2 concurrent workers.\n",
            "[Parallel(n_jobs=-1)]: Done  37 out of  37 | elapsed:  2.0min finished\n",
            "\n",
            "[2020-07-13 06:38:23] Features: 4/15 -- score: 0.9959114004445856[Parallel(n_jobs=-1)]: Using backend LokyBackend with 2 concurrent workers.\n",
            "[Parallel(n_jobs=-1)]: Done  36 out of  36 | elapsed:  2.1min finished\n",
            "\n",
            "[2020-07-13 06:40:29] Features: 5/15 -- score: 0.9966259129882502[Parallel(n_jobs=-1)]: Using backend LokyBackend with 2 concurrent workers.\n",
            "[Parallel(n_jobs=-1)]: Done  35 out of  35 | elapsed:  1.9min finished\n",
            "\n",
            "[2020-07-13 06:42:26] Features: 6/15 -- score: 0.9970228644013972[Parallel(n_jobs=-1)]: Using backend LokyBackend with 2 concurrent workers.\n",
            "[Parallel(n_jobs=-1)]: Done  34 out of  34 | elapsed:  1.9min finished\n",
            "\n",
            "[2020-07-13 06:44:22] Features: 7/15 -- score: 0.997062559542712[Parallel(n_jobs=-1)]: Using backend LokyBackend with 2 concurrent workers.\n",
            "[Parallel(n_jobs=-1)]: Done  33 out of  33 | elapsed:  1.8min finished\n",
            "\n",
            "[2020-07-13 06:46:09] Features: 8/15 -- score: 0.9973801206732296[Parallel(n_jobs=-1)]: Using backend LokyBackend with 2 concurrent workers.\n",
            "[Parallel(n_jobs=-1)]: Done  32 out of  32 | elapsed:  1.9min finished\n",
            "\n",
            "[2020-07-13 06:48:05] Features: 9/15 -- score: 0.9977770720863766[Parallel(n_jobs=-1)]: Using backend LokyBackend with 2 concurrent workers.\n",
            "[Parallel(n_jobs=-1)]: Done  31 out of  31 | elapsed:  1.9min finished\n",
            "\n",
            "[2020-07-13 06:49:56] Features: 10/15 -- score: 0.9977373769450619[Parallel(n_jobs=-1)]: Using backend LokyBackend with 2 concurrent workers.\n",
            "[Parallel(n_jobs=-1)]: Done  30 out of  30 | elapsed:  1.8min finished\n",
            "\n",
            "[2020-07-13 06:51:43] Features: 11/15 -- score: 0.9977373769450619[Parallel(n_jobs=-1)]: Using backend LokyBackend with 2 concurrent workers.\n",
            "[Parallel(n_jobs=-1)]: Done  29 out of  29 | elapsed:  1.8min finished\n",
            "\n",
            "[2020-07-13 06:53:30] Features: 12/15 -- score: 0.9979358526516354[Parallel(n_jobs=-1)]: Using backend LokyBackend with 2 concurrent workers.\n",
            "[Parallel(n_jobs=-1)]: Done  28 out of  28 | elapsed:  1.6min finished\n",
            "\n",
            "[2020-07-13 06:55:08] Features: 13/15 -- score: 0.9979358526516355[Parallel(n_jobs=-1)]: Using backend LokyBackend with 2 concurrent workers.\n",
            "[Parallel(n_jobs=-1)]: Done  27 out of  27 | elapsed:  1.5min finished\n",
            "\n",
            "[2020-07-13 06:56:40] Features: 14/15 -- score: 0.9978961575103208[Parallel(n_jobs=-1)]: Using backend LokyBackend with 2 concurrent workers.\n",
            "[Parallel(n_jobs=-1)]: Done  26 out of  26 | elapsed:  1.5min finished\n",
            "\n",
            "[2020-07-13 06:58:10] Features: 15/15 -- score: 0.9977373769450619"
          ],
          "name": "stderr"
        }
      ]
    },
    {
      "cell_type": "code",
      "metadata": {
        "id": "XQRxtPvr-9xs",
        "colab_type": "code",
        "colab": {
          "base_uri": "https://localhost:8080/",
          "height": 323
        },
        "outputId": "4b1ee510-86a6-4976-e712-b04c2e76ed2b"
      },
      "source": [
        "#selected features and resulting dataset\n",
        "features = pd.array(forwardres.k_feature_names_)\n",
        "print(features)\n",
        "traindata_ = train_x[features]\n",
        "print(traindata_.head())"
      ],
      "execution_count": 82,
      "outputs": [
        {
          "output_type": "stream",
          "text": [
            "<StringArray>\n",
            "[                'duration',                'src_bytes',\n",
            "                'dst_bytes',                     'land',\n",
            "             'su_attempted',       'num_file_creations',\n",
            "          'srv_rerror_rate',            'same_srv_rate',\n",
            "   'dst_host_same_srv_rate',     'dst_host_serror_rate',\n",
            " 'dst_host_srv_serror_rate',     'dst_host_rerror_rate',\n",
            "            'protocol_type',                  'service',\n",
            "                     'flag']\n",
            "Length: 15, dtype: string\n",
            "   duration  src_bytes  dst_bytes  ...  protocol_type  service  flag\n",
            "0 -0.113551  -0.009889  -0.039310  ...              1       19     9\n",
            "1 -0.113551  -0.010032  -0.039310  ...              2       41     9\n",
            "2 -0.113551  -0.010093  -0.039310  ...              1       46     5\n",
            "3 -0.113551  -0.009996   0.052473  ...              1       22     9\n",
            "4 -0.113551  -0.010010  -0.034582  ...              1       22     9\n",
            "\n",
            "[5 rows x 15 columns]\n"
          ],
          "name": "stdout"
        }
      ]
    },
    {
      "cell_type": "markdown",
      "metadata": {
        "id": "6orkse7gwJao",
        "colab_type": "text"
      },
      "source": [
        "# Training the models"
      ]
    },
    {
      "cell_type": "code",
      "metadata": {
        "id": "h7vfBjYd_sZE",
        "colab_type": "code",
        "colab": {}
      },
      "source": [
        "#splitting train to train and test to feed the model and evaluate\n",
        "from sklearn.model_selection import train_test_split\n",
        "X_train,X_test,Y_train,Y_test = train_test_split(traindata,train_y,train_size=0.70, random_state=2)"
      ],
      "execution_count": 83,
      "outputs": []
    },
    {
      "cell_type": "code",
      "metadata": {
        "id": "TUpz3RqSAkLJ",
        "colab_type": "code",
        "colab": {
          "base_uri": "https://localhost:8080/",
          "height": 119
        },
        "outputId": "1667183c-3d3e-4148-9347-afc1c77c2567"
      },
      "source": [
        "#importing four selected models\n",
        "from sklearn.naive_bayes import BernoulliNB \n",
        "from sklearn import tree\n",
        "from sklearn.neighbors import KNeighborsClassifier\n",
        "from sklearn.linear_model import LogisticRegression\n",
        "\n",
        "#KNeighborsClassifier Model\n",
        "KNN_Classifier = KNeighborsClassifier(n_jobs=-1)\n",
        "KNN_Classifier.fit(X_train, Y_train); \n",
        "\n",
        "#LogisticRegression Model\n",
        "LGR_Classifier = LogisticRegression(n_jobs=-1, random_state=0)\n",
        "LGR_Classifier.fit(X_train, Y_train);\n",
        "\n",
        "#NaiveBayes Model\n",
        "BNB_Classifier = BernoulliNB()\n",
        "BNB_Classifier.fit(X_train, Y_train)\n",
        "            \n",
        "#DecisionTree Model\n",
        "DTC_Classifier = tree.DecisionTreeClassifier(criterion='entropy', random_state=0)\n",
        "DTC_Classifier.fit(X_train, Y_train)"
      ],
      "execution_count": 84,
      "outputs": [
        {
          "output_type": "execute_result",
          "data": {
            "text/plain": [
              "DecisionTreeClassifier(ccp_alpha=0.0, class_weight=None, criterion='entropy',\n",
              "                       max_depth=None, max_features=None, max_leaf_nodes=None,\n",
              "                       min_impurity_decrease=0.0, min_impurity_split=None,\n",
              "                       min_samples_leaf=1, min_samples_split=2,\n",
              "                       min_weight_fraction_leaf=0.0, presort='deprecated',\n",
              "                       random_state=0, splitter='best')"
            ]
          },
          "metadata": {
            "tags": []
          },
          "execution_count": 84
        }
      ]
    },
    {
      "cell_type": "code",
      "metadata": {
        "id": "hHMN6zo_Ars3",
        "colab_type": "code",
        "colab": {
          "base_uri": "https://localhost:8080/",
          "height": 1000
        },
        "outputId": "e9a10033-6354-4aae-9e2c-e71213d450b5"
      },
      "source": [
        "from sklearn import metrics\n",
        "from sklearn.model_selection import cross_val_score\n",
        "\n",
        "\n",
        "selected_models = []\n",
        "#evaluating each models\n",
        "selected_models.append(('Naive Baye Classifier', BNB_Classifier))\n",
        "selected_models.append(('Decision Tree Classifier', DTC_Classifier))\n",
        "selected_models.append(('KNeighborsClassifier', KNN_Classifier))\n",
        "selected_models.append(('LogisticRegression', LGR_Classifier))\n",
        "\n",
        "for i, j in models:\n",
        "    scores = cross_val_score(j, X_train, Y_train, cv=10)\n",
        "    accuracy = metrics.accuracy_score(Y_train, j.predict(X_train))\n",
        "    confusion_matrix = metrics.confusion_matrix(Y_train, j.predict(X_train))\n",
        "    classification = metrics.classification_report(Y_train, j.predict(X_train))\n",
        "    print()\n",
        "    print('++++++++++++++++++++++++++++ {} Model Evaluation Result +++++++++++++++++++++++++++++++'.format(i))\n",
        "    print()\n",
        "    print (\"Cross Validation Mean Score:\" \"\\n\", scores.mean())\n",
        "    print()\n",
        "    print (\"Model Accuracy:\" \"\\n\", accuracy)\n",
        "    print()\n",
        "    print(\"Confusion matrix:\" \"\\n\", confusion_matrix)\n",
        "    print()\n",
        "    print(\"Classification report:\" \"\\n\", classification) \n",
        "    print()\n"
      ],
      "execution_count": 85,
      "outputs": [
        {
          "output_type": "stream",
          "text": [
            "\n",
            "++++++++++++++++++++++++++++ Naive Baye Classifier Model Evaluation Result +++++++++++++++++++++++++++++++\n",
            "\n",
            "Cross Validation Mean Score:\n",
            " 0.8898706145343371\n",
            "\n",
            "Model Accuracy:\n",
            " 0.8898718384938188\n",
            "\n",
            "Confusion matrix:\n",
            " [[6748 1497]\n",
            " [ 445 8944]]\n",
            "\n",
            "Classification report:\n",
            "               precision    recall  f1-score   support\n",
            "\n",
            "     anomaly       0.94      0.82      0.87      8245\n",
            "      normal       0.86      0.95      0.90      9389\n",
            "\n",
            "    accuracy                           0.89     17634\n",
            "   macro avg       0.90      0.89      0.89     17634\n",
            "weighted avg       0.89      0.89      0.89     17634\n",
            "\n",
            "\n",
            "\n",
            "++++++++++++++++++++++++++++ Decision Tree Classifier Model Evaluation Result +++++++++++++++++++++++++++++++\n",
            "\n",
            "Cross Validation Mean Score:\n",
            " 0.9961439992900166\n",
            "\n",
            "Model Accuracy:\n",
            " 1.0\n",
            "\n",
            "Confusion matrix:\n",
            " [[8245    0]\n",
            " [   0 9389]]\n",
            "\n",
            "Classification report:\n",
            "               precision    recall  f1-score   support\n",
            "\n",
            "     anomaly       1.00      1.00      1.00      8245\n",
            "      normal       1.00      1.00      1.00      9389\n",
            "\n",
            "    accuracy                           1.00     17634\n",
            "   macro avg       1.00      1.00      1.00     17634\n",
            "weighted avg       1.00      1.00      1.00     17634\n",
            "\n",
            "\n",
            "\n",
            "++++++++++++++++++++++++++++ KNeighborsClassifier Model Evaluation Result +++++++++++++++++++++++++++++++\n",
            "\n",
            "Cross Validation Mean Score:\n",
            " 0.9879209256022319\n",
            "\n",
            "Model Accuracy:\n",
            " 0.9918339571282749\n",
            "\n",
            "Confusion matrix:\n",
            " [[8146   99]\n",
            " [  45 9344]]\n",
            "\n",
            "Classification report:\n",
            "               precision    recall  f1-score   support\n",
            "\n",
            "     anomaly       0.99      0.99      0.99      8245\n",
            "      normal       0.99      1.00      0.99      9389\n",
            "\n",
            "    accuracy                           0.99     17634\n",
            "   macro avg       0.99      0.99      0.99     17634\n",
            "weighted avg       0.99      0.99      0.99     17634\n",
            "\n",
            "\n",
            "\n",
            "++++++++++++++++++++++++++++ LogisticRegression Model Evaluation Result +++++++++++++++++++++++++++++++\n",
            "\n",
            "Cross Validation Mean Score:\n",
            " 0.939661863989309\n",
            "\n",
            "Model Accuracy:\n",
            " 0.939548599296813\n",
            "\n",
            "Confusion matrix:\n",
            " [[7576  669]\n",
            " [ 397 8992]]\n",
            "\n",
            "Classification report:\n",
            "               precision    recall  f1-score   support\n",
            "\n",
            "     anomaly       0.95      0.92      0.93      8245\n",
            "      normal       0.93      0.96      0.94      9389\n",
            "\n",
            "    accuracy                           0.94     17634\n",
            "   macro avg       0.94      0.94      0.94     17634\n",
            "weighted avg       0.94      0.94      0.94     17634\n",
            "\n",
            "\n"
          ],
          "name": "stdout"
        }
      ]
    },
    {
      "cell_type": "code",
      "metadata": {
        "id": "czPf0-LIGE4T",
        "colab_type": "code",
        "colab": {
          "base_uri": "https://localhost:8080/",
          "height": 1000
        },
        "outputId": "7a43e44d-fe75-4119-d38e-d287d7e5f1bc"
      },
      "source": [
        "#Testing the models\n",
        "accuracyofmodels = []\n",
        "\n",
        "for i, j in models:\n",
        "    accuracy = metrics.accuracy_score(Y_test, j.predict(X_test))\n",
        "    confusion_matrix = metrics.confusion_matrix(Y_test, j.predict(X_test))\n",
        "    classification = metrics.classification_report(Y_test, j.predict(X_test))\n",
        "    print()\n",
        "    print('++++++++++++++++++++++++++++++++ {} Model Test Result ++++++++++++++++++++++++++++'.format(i))\n",
        "    print()\n",
        "    print (\"Model Accuracy:\" \"\\n\", accuracy)\n",
        "    print()\n",
        "    print(\"Confusion matrix:\" \"\\n\", confusion_matrix)\n",
        "    print()\n",
        "    print(\"Classification report:\" \"\\n\", classification) \n",
        "    print()\n",
        "    accuracyofmodels.append(accuracy)\n",
        "\n",
        "print(accuracyofmodels)\n",
        "best_model = accuracyofmodels.index(max(accuracyofmodels))\n",
        "print(best_model)   "
      ],
      "execution_count": 86,
      "outputs": [
        {
          "output_type": "stream",
          "text": [
            "\n",
            "++++++++++++++++++++++++++++++++ Naive Baye Classifier Model Test Result ++++++++++++++++++++++++++++\n",
            "\n",
            "Model Accuracy:\n",
            " 0.8885948663667637\n",
            "\n",
            "Confusion matrix:\n",
            " [[2876  622]\n",
            " [ 220 3840]]\n",
            "\n",
            "Classification report:\n",
            "               precision    recall  f1-score   support\n",
            "\n",
            "     anomaly       0.93      0.82      0.87      3498\n",
            "      normal       0.86      0.95      0.90      4060\n",
            "\n",
            "    accuracy                           0.89      7558\n",
            "   macro avg       0.89      0.88      0.89      7558\n",
            "weighted avg       0.89      0.89      0.89      7558\n",
            "\n",
            "\n",
            "\n",
            "++++++++++++++++++++++++++++++++ Decision Tree Classifier Model Test Result ++++++++++++++++++++++++++++\n",
            "\n",
            "Model Accuracy:\n",
            " 0.9951045250066155\n",
            "\n",
            "Confusion matrix:\n",
            " [[3487   11]\n",
            " [  26 4034]]\n",
            "\n",
            "Classification report:\n",
            "               precision    recall  f1-score   support\n",
            "\n",
            "     anomaly       0.99      1.00      0.99      3498\n",
            "      normal       1.00      0.99      1.00      4060\n",
            "\n",
            "    accuracy                           1.00      7558\n",
            "   macro avg       0.99      1.00      1.00      7558\n",
            "weighted avg       1.00      1.00      1.00      7558\n",
            "\n",
            "\n",
            "\n",
            "++++++++++++++++++++++++++++++++ KNeighborsClassifier Model Test Result ++++++++++++++++++++++++++++\n",
            "\n",
            "Model Accuracy:\n",
            " 0.990209050013231\n",
            "\n",
            "Confusion matrix:\n",
            " [[3452   46]\n",
            " [  28 4032]]\n",
            "\n",
            "Classification report:\n",
            "               precision    recall  f1-score   support\n",
            "\n",
            "     anomaly       0.99      0.99      0.99      3498\n",
            "      normal       0.99      0.99      0.99      4060\n",
            "\n",
            "    accuracy                           0.99      7558\n",
            "   macro avg       0.99      0.99      0.99      7558\n",
            "weighted avg       0.99      0.99      0.99      7558\n",
            "\n",
            "\n",
            "\n",
            "++++++++++++++++++++++++++++++++ LogisticRegression Model Test Result ++++++++++++++++++++++++++++\n",
            "\n",
            "Model Accuracy:\n",
            " 0.9397988885948664\n",
            "\n",
            "Confusion matrix:\n",
            " [[3236  262]\n",
            " [ 193 3867]]\n",
            "\n",
            "Classification report:\n",
            "               precision    recall  f1-score   support\n",
            "\n",
            "     anomaly       0.94      0.93      0.93      3498\n",
            "      normal       0.94      0.95      0.94      4060\n",
            "\n",
            "    accuracy                           0.94      7558\n",
            "   macro avg       0.94      0.94      0.94      7558\n",
            "weighted avg       0.94      0.94      0.94      7558\n",
            "\n",
            "\n",
            "[0.8885948663667637, 0.9951045250066155, 0.990209050013231, 0.9397988885948664]\n",
            "1\n"
          ],
          "name": "stdout"
        }
      ]
    },
    {
      "cell_type": "markdown",
      "metadata": {
        "id": "XA6RnL8Dwz42",
        "colab_type": "text"
      },
      "source": [
        "Predicting the state of the packet using the best trained model"
      ]
    },
    {
      "cell_type": "code",
      "metadata": {
        "id": "VS3rOWvhOeC-",
        "colab_type": "code",
        "colab": {
          "base_uri": "https://localhost:8080/",
          "height": 418
        },
        "outputId": "1aaf7aeb-1674-46e8-c18b-d8904a5a0711"
      },
      "source": [
        "#selecting features in test data\n",
        "testdata_ = test_data_[features]\n",
        "\n",
        "if best_model == 0:\n",
        "  print(\"Best model for given dataset is [Naive Baye Classifier] and evaluating test dataset based on that model\")\n",
        "  pred_NB = BNB_Classifier.predict(testdata_)\n",
        "  pred_NB_list = list(pred_NB)\n",
        "  pres_NB = pd.DataFrame(pred_NB)\n",
        "  result = pd.concat([test_data_, pred_NB],axis=1)\n",
        "  result.shape\n",
        "  print(result.head())\n",
        "  sns.countplot(pred_NB_list)\n",
        "elif best_model == 1:\n",
        "  print(\"Best model for given dataset is [Decision Tree Classifier] and evaluating test dataset based on that model\")\n",
        "  pred_dt = DTC_Classifier.predict(testdata_)\n",
        "  pred_dtc_list = list(pred_dt)\n",
        "  pred_dt = pd.DataFrame(pred_dt)\n",
        "  result = pd.concat([test_data_, pred_dt],axis=1)\n",
        "  result.shape\n",
        "  print(result.head())\n",
        "  sns.countplot(pred_dtc_list)\n",
        "elif best_model == 2:\n",
        "  print(\"Best model for given dataset is [KNeighbors Classifier] and evaluating test dataset based on that model\")\n",
        "  pred_knn = KNN_Classifier.predict(testdata_)\n",
        "  pred_knn_list = list(pred_knn)\n",
        "  pred_knn = pd.DataFrame(pred_knn)\n",
        "  result = pd.concat([test_data_, pred_knn],axis=1)\n",
        "  result.shape\n",
        "  print(result.head())\n",
        "  sns.countplot(pred_knn_list)\n",
        "else:\n",
        "  print(\"Best model for given dataset is [LogisticRegression] and evaluating test dataset based on that model\")\n",
        "  pred_log = LGR_Classifier.predict(testdata_)\n",
        "  pred_log_list = list(pred_log)\n",
        "  pred_log = pd.DataFrame(pred_log)\n",
        "  result = pd.concat([test_data_, pred_log],axis=1)\n",
        "  result.shape\n",
        "  print(result.head())\n",
        "  sns.countplot(pred_log_list)\n",
        "  \n"
      ],
      "execution_count": 90,
      "outputs": [
        {
          "output_type": "stream",
          "text": [
            "Best model for given dataset is [Decision Tree Classifier] and evaluating test dataset based on that model\n",
            "   duration  src_bytes  dst_bytes  ...  service  flag        0\n",
            "0 -0.155534  -0.021988  -0.096896  ...       45     1  anomaly\n",
            "1 -0.155534  -0.021988  -0.096896  ...       45     1  anomaly\n",
            "2 -0.154113   0.005473  -0.096896  ...       19     9   normal\n",
            "3 -0.155534  -0.021946  -0.096896  ...       13     9  anomaly\n",
            "4 -0.154823  -0.021988  -0.096189  ...       55     2  anomaly\n",
            "\n",
            "[5 rows x 41 columns]\n"
          ],
          "name": "stdout"
        },
        {
          "output_type": "display_data",
          "data": {
            "image/png": "[encoded data removed]",
            "text/plain": [
              "<Figure size 432x288 with 1 Axes>"
            ]
          },
          "metadata": {
            "tags": [],
            "needs_background": "light"
          }
        }
      ]
    },
    {
      "cell_type": "markdown",
      "metadata": {
        "id": "bZFdTDIXyAw_",
        "colab_type": "text"
      },
      "source": [
        "Hence, the packet of class anomaly are malicious"
      ]
    },
    {
      "cell_type": "markdown",
      "metadata": {
        "id": "UouNtywUxy2b",
        "colab_type": "text"
      },
      "source": [
        "# Thank You"
      ]
    }
  ]
}